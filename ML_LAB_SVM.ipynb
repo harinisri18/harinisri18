{
  "nbformat": 4,
  "nbformat_minor": 0,
  "metadata": {
    "colab": {
      "name": "ML LAB SVM",
      "provenance": []
    },
    "kernelspec": {
      "name": "python3",
      "display_name": "Python 3"
    },
    "language_info": {
      "name": "python"
    }
  },
  "cells": [
    {
      "cell_type": "code",
      "metadata": {
        "id": "2JUS97Y_c3sa"
      },
      "source": [
        "import numpy as np \n",
        "import pandas as pd"
      ],
      "execution_count": 86,
      "outputs": []
    },
    {
      "cell_type": "code",
      "metadata": {
        "colab": {
          "base_uri": "https://localhost:8080/"
        },
        "id": "oTnKxEmaelG1",
        "outputId": "86910cca-2d63-4b8b-ce23-b28552487c20"
      },
      "source": [
        "from google.colab import drive\n",
        "drive.mount('/content/drive')"
      ],
      "execution_count": 87,
      "outputs": [
        {
          "output_type": "stream",
          "name": "stdout",
          "text": [
            "Drive already mounted at /content/drive; to attempt to forcibly remount, call drive.mount(\"/content/drive\", force_remount=True).\n"
          ]
        }
      ]
    },
    {
      "cell_type": "markdown",
      "metadata": {
        "id": "j8c8Ffq9i33J"
      },
      "source": [
        "importing the pulsar dataset"
      ]
    },
    {
      "cell_type": "code",
      "metadata": {
        "colab": {
          "base_uri": "https://localhost:8080/",
          "height": 453
        },
        "id": "1UT_tXhieyrM",
        "outputId": "8193ebdc-7883-4d9a-d9e0-d4b4c7ca75e1"
      },
      "source": [
        "data = '/content/drive/MyDrive/pulsar_stars.csv'\n",
        "\n",
        "df = pd.read_csv(data)\n",
        "df"
      ],
      "execution_count": 88,
      "outputs": [
        {
          "output_type": "execute_result",
          "data": {
            "text/html": [
              "<div>\n",
              "<style scoped>\n",
              "    .dataframe tbody tr th:only-of-type {\n",
              "        vertical-align: middle;\n",
              "    }\n",
              "\n",
              "    .dataframe tbody tr th {\n",
              "        vertical-align: top;\n",
              "    }\n",
              "\n",
              "    .dataframe thead th {\n",
              "        text-align: right;\n",
              "    }\n",
              "</style>\n",
              "<table border=\"1\" class=\"dataframe\">\n",
              "  <thead>\n",
              "    <tr style=\"text-align: right;\">\n",
              "      <th></th>\n",
              "      <th>Mean of the integrated profile</th>\n",
              "      <th>Standard deviation of the integrated profile</th>\n",
              "      <th>Excess kurtosis of the integrated profile</th>\n",
              "      <th>Skewness of the integrated profile</th>\n",
              "      <th>Mean of the DM-SNR curve</th>\n",
              "      <th>Standard deviation of the DM-SNR curve</th>\n",
              "      <th>Excess kurtosis of the DM-SNR curve</th>\n",
              "      <th>Skewness of the DM-SNR curve</th>\n",
              "      <th>target_class</th>\n",
              "    </tr>\n",
              "  </thead>\n",
              "  <tbody>\n",
              "    <tr>\n",
              "      <th>0</th>\n",
              "      <td>140.562500</td>\n",
              "      <td>55.683782</td>\n",
              "      <td>-0.234571</td>\n",
              "      <td>-0.699648</td>\n",
              "      <td>3.199833</td>\n",
              "      <td>19.110426</td>\n",
              "      <td>7.975532</td>\n",
              "      <td>74.242225</td>\n",
              "      <td>0</td>\n",
              "    </tr>\n",
              "    <tr>\n",
              "      <th>1</th>\n",
              "      <td>102.507812</td>\n",
              "      <td>58.882430</td>\n",
              "      <td>0.465318</td>\n",
              "      <td>-0.515088</td>\n",
              "      <td>1.677258</td>\n",
              "      <td>14.860146</td>\n",
              "      <td>10.576487</td>\n",
              "      <td>127.393580</td>\n",
              "      <td>0</td>\n",
              "    </tr>\n",
              "    <tr>\n",
              "      <th>2</th>\n",
              "      <td>103.015625</td>\n",
              "      <td>39.341649</td>\n",
              "      <td>0.323328</td>\n",
              "      <td>1.051164</td>\n",
              "      <td>3.121237</td>\n",
              "      <td>21.744669</td>\n",
              "      <td>7.735822</td>\n",
              "      <td>63.171909</td>\n",
              "      <td>0</td>\n",
              "    </tr>\n",
              "    <tr>\n",
              "      <th>3</th>\n",
              "      <td>136.750000</td>\n",
              "      <td>57.178449</td>\n",
              "      <td>-0.068415</td>\n",
              "      <td>-0.636238</td>\n",
              "      <td>3.642977</td>\n",
              "      <td>20.959280</td>\n",
              "      <td>6.896499</td>\n",
              "      <td>53.593661</td>\n",
              "      <td>0</td>\n",
              "    </tr>\n",
              "    <tr>\n",
              "      <th>4</th>\n",
              "      <td>88.726562</td>\n",
              "      <td>40.672225</td>\n",
              "      <td>0.600866</td>\n",
              "      <td>1.123492</td>\n",
              "      <td>1.178930</td>\n",
              "      <td>11.468720</td>\n",
              "      <td>14.269573</td>\n",
              "      <td>252.567306</td>\n",
              "      <td>0</td>\n",
              "    </tr>\n",
              "    <tr>\n",
              "      <th>...</th>\n",
              "      <td>...</td>\n",
              "      <td>...</td>\n",
              "      <td>...</td>\n",
              "      <td>...</td>\n",
              "      <td>...</td>\n",
              "      <td>...</td>\n",
              "      <td>...</td>\n",
              "      <td>...</td>\n",
              "      <td>...</td>\n",
              "    </tr>\n",
              "    <tr>\n",
              "      <th>17893</th>\n",
              "      <td>136.429688</td>\n",
              "      <td>59.847421</td>\n",
              "      <td>-0.187846</td>\n",
              "      <td>-0.738123</td>\n",
              "      <td>1.296823</td>\n",
              "      <td>12.166062</td>\n",
              "      <td>15.450260</td>\n",
              "      <td>285.931022</td>\n",
              "      <td>0</td>\n",
              "    </tr>\n",
              "    <tr>\n",
              "      <th>17894</th>\n",
              "      <td>122.554688</td>\n",
              "      <td>49.485605</td>\n",
              "      <td>0.127978</td>\n",
              "      <td>0.323061</td>\n",
              "      <td>16.409699</td>\n",
              "      <td>44.626893</td>\n",
              "      <td>2.945244</td>\n",
              "      <td>8.297092</td>\n",
              "      <td>0</td>\n",
              "    </tr>\n",
              "    <tr>\n",
              "      <th>17895</th>\n",
              "      <td>119.335938</td>\n",
              "      <td>59.935939</td>\n",
              "      <td>0.159363</td>\n",
              "      <td>-0.743025</td>\n",
              "      <td>21.430602</td>\n",
              "      <td>58.872000</td>\n",
              "      <td>2.499517</td>\n",
              "      <td>4.595173</td>\n",
              "      <td>0</td>\n",
              "    </tr>\n",
              "    <tr>\n",
              "      <th>17896</th>\n",
              "      <td>114.507812</td>\n",
              "      <td>53.902400</td>\n",
              "      <td>0.201161</td>\n",
              "      <td>-0.024789</td>\n",
              "      <td>1.946488</td>\n",
              "      <td>13.381731</td>\n",
              "      <td>10.007967</td>\n",
              "      <td>134.238910</td>\n",
              "      <td>0</td>\n",
              "    </tr>\n",
              "    <tr>\n",
              "      <th>17897</th>\n",
              "      <td>57.062500</td>\n",
              "      <td>85.797340</td>\n",
              "      <td>1.406391</td>\n",
              "      <td>0.089520</td>\n",
              "      <td>188.306020</td>\n",
              "      <td>64.712562</td>\n",
              "      <td>-1.597527</td>\n",
              "      <td>1.429475</td>\n",
              "      <td>0</td>\n",
              "    </tr>\n",
              "  </tbody>\n",
              "</table>\n",
              "<p>17898 rows × 9 columns</p>\n",
              "</div>"
            ],
            "text/plain": [
              "        Mean of the integrated profile  ...  target_class\n",
              "0                           140.562500  ...             0\n",
              "1                           102.507812  ...             0\n",
              "2                           103.015625  ...             0\n",
              "3                           136.750000  ...             0\n",
              "4                            88.726562  ...             0\n",
              "...                                ...  ...           ...\n",
              "17893                       136.429688  ...             0\n",
              "17894                       122.554688  ...             0\n",
              "17895                       119.335938  ...             0\n",
              "17896                       114.507812  ...             0\n",
              "17897                        57.062500  ...             0\n",
              "\n",
              "[17898 rows x 9 columns]"
            ]
          },
          "metadata": {},
          "execution_count": 88
        }
      ]
    },
    {
      "cell_type": "markdown",
      "metadata": {
        "id": "V0RtfJP_i9y5"
      },
      "source": [
        "exploratory data analysis"
      ]
    },
    {
      "cell_type": "code",
      "metadata": {
        "colab": {
          "base_uri": "https://localhost:8080/"
        },
        "id": "PNjbR9JgfNmo",
        "outputId": "b50d442e-1f28-4b2b-b2ac-c79feec63029"
      },
      "source": [
        "df.shape"
      ],
      "execution_count": 89,
      "outputs": [
        {
          "output_type": "execute_result",
          "data": {
            "text/plain": [
              "(17898, 9)"
            ]
          },
          "metadata": {},
          "execution_count": 89
        }
      ]
    },
    {
      "cell_type": "code",
      "metadata": {
        "colab": {
          "base_uri": "https://localhost:8080/",
          "height": 238
        },
        "id": "DgfbVdwifOjF",
        "outputId": "ea92898e-84c9-49b2-f612-5c680de89b67"
      },
      "source": [
        "df.head()"
      ],
      "execution_count": 90,
      "outputs": [
        {
          "output_type": "execute_result",
          "data": {
            "text/html": [
              "<div>\n",
              "<style scoped>\n",
              "    .dataframe tbody tr th:only-of-type {\n",
              "        vertical-align: middle;\n",
              "    }\n",
              "\n",
              "    .dataframe tbody tr th {\n",
              "        vertical-align: top;\n",
              "    }\n",
              "\n",
              "    .dataframe thead th {\n",
              "        text-align: right;\n",
              "    }\n",
              "</style>\n",
              "<table border=\"1\" class=\"dataframe\">\n",
              "  <thead>\n",
              "    <tr style=\"text-align: right;\">\n",
              "      <th></th>\n",
              "      <th>Mean of the integrated profile</th>\n",
              "      <th>Standard deviation of the integrated profile</th>\n",
              "      <th>Excess kurtosis of the integrated profile</th>\n",
              "      <th>Skewness of the integrated profile</th>\n",
              "      <th>Mean of the DM-SNR curve</th>\n",
              "      <th>Standard deviation of the DM-SNR curve</th>\n",
              "      <th>Excess kurtosis of the DM-SNR curve</th>\n",
              "      <th>Skewness of the DM-SNR curve</th>\n",
              "      <th>target_class</th>\n",
              "    </tr>\n",
              "  </thead>\n",
              "  <tbody>\n",
              "    <tr>\n",
              "      <th>0</th>\n",
              "      <td>140.562500</td>\n",
              "      <td>55.683782</td>\n",
              "      <td>-0.234571</td>\n",
              "      <td>-0.699648</td>\n",
              "      <td>3.199833</td>\n",
              "      <td>19.110426</td>\n",
              "      <td>7.975532</td>\n",
              "      <td>74.242225</td>\n",
              "      <td>0</td>\n",
              "    </tr>\n",
              "    <tr>\n",
              "      <th>1</th>\n",
              "      <td>102.507812</td>\n",
              "      <td>58.882430</td>\n",
              "      <td>0.465318</td>\n",
              "      <td>-0.515088</td>\n",
              "      <td>1.677258</td>\n",
              "      <td>14.860146</td>\n",
              "      <td>10.576487</td>\n",
              "      <td>127.393580</td>\n",
              "      <td>0</td>\n",
              "    </tr>\n",
              "    <tr>\n",
              "      <th>2</th>\n",
              "      <td>103.015625</td>\n",
              "      <td>39.341649</td>\n",
              "      <td>0.323328</td>\n",
              "      <td>1.051164</td>\n",
              "      <td>3.121237</td>\n",
              "      <td>21.744669</td>\n",
              "      <td>7.735822</td>\n",
              "      <td>63.171909</td>\n",
              "      <td>0</td>\n",
              "    </tr>\n",
              "    <tr>\n",
              "      <th>3</th>\n",
              "      <td>136.750000</td>\n",
              "      <td>57.178449</td>\n",
              "      <td>-0.068415</td>\n",
              "      <td>-0.636238</td>\n",
              "      <td>3.642977</td>\n",
              "      <td>20.959280</td>\n",
              "      <td>6.896499</td>\n",
              "      <td>53.593661</td>\n",
              "      <td>0</td>\n",
              "    </tr>\n",
              "    <tr>\n",
              "      <th>4</th>\n",
              "      <td>88.726562</td>\n",
              "      <td>40.672225</td>\n",
              "      <td>0.600866</td>\n",
              "      <td>1.123492</td>\n",
              "      <td>1.178930</td>\n",
              "      <td>11.468720</td>\n",
              "      <td>14.269573</td>\n",
              "      <td>252.567306</td>\n",
              "      <td>0</td>\n",
              "    </tr>\n",
              "  </tbody>\n",
              "</table>\n",
              "</div>"
            ],
            "text/plain": [
              "    Mean of the integrated profile  ...  target_class\n",
              "0                       140.562500  ...             0\n",
              "1                       102.507812  ...             0\n",
              "2                       103.015625  ...             0\n",
              "3                       136.750000  ...             0\n",
              "4                        88.726562  ...             0\n",
              "\n",
              "[5 rows x 9 columns]"
            ]
          },
          "metadata": {},
          "execution_count": 90
        }
      ]
    },
    {
      "cell_type": "code",
      "metadata": {
        "colab": {
          "base_uri": "https://localhost:8080/",
          "height": 238
        },
        "id": "wTnY3PzRfRvh",
        "outputId": "d4d1b2c2-082e-4f80-e3fa-adf48c919d59"
      },
      "source": [
        "df.tail()"
      ],
      "execution_count": 91,
      "outputs": [
        {
          "output_type": "execute_result",
          "data": {
            "text/html": [
              "<div>\n",
              "<style scoped>\n",
              "    .dataframe tbody tr th:only-of-type {\n",
              "        vertical-align: middle;\n",
              "    }\n",
              "\n",
              "    .dataframe tbody tr th {\n",
              "        vertical-align: top;\n",
              "    }\n",
              "\n",
              "    .dataframe thead th {\n",
              "        text-align: right;\n",
              "    }\n",
              "</style>\n",
              "<table border=\"1\" class=\"dataframe\">\n",
              "  <thead>\n",
              "    <tr style=\"text-align: right;\">\n",
              "      <th></th>\n",
              "      <th>Mean of the integrated profile</th>\n",
              "      <th>Standard deviation of the integrated profile</th>\n",
              "      <th>Excess kurtosis of the integrated profile</th>\n",
              "      <th>Skewness of the integrated profile</th>\n",
              "      <th>Mean of the DM-SNR curve</th>\n",
              "      <th>Standard deviation of the DM-SNR curve</th>\n",
              "      <th>Excess kurtosis of the DM-SNR curve</th>\n",
              "      <th>Skewness of the DM-SNR curve</th>\n",
              "      <th>target_class</th>\n",
              "    </tr>\n",
              "  </thead>\n",
              "  <tbody>\n",
              "    <tr>\n",
              "      <th>17893</th>\n",
              "      <td>136.429688</td>\n",
              "      <td>59.847421</td>\n",
              "      <td>-0.187846</td>\n",
              "      <td>-0.738123</td>\n",
              "      <td>1.296823</td>\n",
              "      <td>12.166062</td>\n",
              "      <td>15.450260</td>\n",
              "      <td>285.931022</td>\n",
              "      <td>0</td>\n",
              "    </tr>\n",
              "    <tr>\n",
              "      <th>17894</th>\n",
              "      <td>122.554688</td>\n",
              "      <td>49.485605</td>\n",
              "      <td>0.127978</td>\n",
              "      <td>0.323061</td>\n",
              "      <td>16.409699</td>\n",
              "      <td>44.626893</td>\n",
              "      <td>2.945244</td>\n",
              "      <td>8.297092</td>\n",
              "      <td>0</td>\n",
              "    </tr>\n",
              "    <tr>\n",
              "      <th>17895</th>\n",
              "      <td>119.335938</td>\n",
              "      <td>59.935939</td>\n",
              "      <td>0.159363</td>\n",
              "      <td>-0.743025</td>\n",
              "      <td>21.430602</td>\n",
              "      <td>58.872000</td>\n",
              "      <td>2.499517</td>\n",
              "      <td>4.595173</td>\n",
              "      <td>0</td>\n",
              "    </tr>\n",
              "    <tr>\n",
              "      <th>17896</th>\n",
              "      <td>114.507812</td>\n",
              "      <td>53.902400</td>\n",
              "      <td>0.201161</td>\n",
              "      <td>-0.024789</td>\n",
              "      <td>1.946488</td>\n",
              "      <td>13.381731</td>\n",
              "      <td>10.007967</td>\n",
              "      <td>134.238910</td>\n",
              "      <td>0</td>\n",
              "    </tr>\n",
              "    <tr>\n",
              "      <th>17897</th>\n",
              "      <td>57.062500</td>\n",
              "      <td>85.797340</td>\n",
              "      <td>1.406391</td>\n",
              "      <td>0.089520</td>\n",
              "      <td>188.306020</td>\n",
              "      <td>64.712562</td>\n",
              "      <td>-1.597527</td>\n",
              "      <td>1.429475</td>\n",
              "      <td>0</td>\n",
              "    </tr>\n",
              "  </tbody>\n",
              "</table>\n",
              "</div>"
            ],
            "text/plain": [
              "        Mean of the integrated profile  ...  target_class\n",
              "17893                       136.429688  ...             0\n",
              "17894                       122.554688  ...             0\n",
              "17895                       119.335938  ...             0\n",
              "17896                       114.507812  ...             0\n",
              "17897                        57.062500  ...             0\n",
              "\n",
              "[5 rows x 9 columns]"
            ]
          },
          "metadata": {},
          "execution_count": 91
        }
      ]
    },
    {
      "cell_type": "code",
      "metadata": {
        "colab": {
          "base_uri": "https://localhost:8080/",
          "height": 348
        },
        "id": "0kHFOrstfS8c",
        "outputId": "e5e98003-9724-47fe-e163-9efa261c4a73"
      },
      "source": [
        "df.describe()"
      ],
      "execution_count": 92,
      "outputs": [
        {
          "output_type": "execute_result",
          "data": {
            "text/html": [
              "<div>\n",
              "<style scoped>\n",
              "    .dataframe tbody tr th:only-of-type {\n",
              "        vertical-align: middle;\n",
              "    }\n",
              "\n",
              "    .dataframe tbody tr th {\n",
              "        vertical-align: top;\n",
              "    }\n",
              "\n",
              "    .dataframe thead th {\n",
              "        text-align: right;\n",
              "    }\n",
              "</style>\n",
              "<table border=\"1\" class=\"dataframe\">\n",
              "  <thead>\n",
              "    <tr style=\"text-align: right;\">\n",
              "      <th></th>\n",
              "      <th>Mean of the integrated profile</th>\n",
              "      <th>Standard deviation of the integrated profile</th>\n",
              "      <th>Excess kurtosis of the integrated profile</th>\n",
              "      <th>Skewness of the integrated profile</th>\n",
              "      <th>Mean of the DM-SNR curve</th>\n",
              "      <th>Standard deviation of the DM-SNR curve</th>\n",
              "      <th>Excess kurtosis of the DM-SNR curve</th>\n",
              "      <th>Skewness of the DM-SNR curve</th>\n",
              "      <th>target_class</th>\n",
              "    </tr>\n",
              "  </thead>\n",
              "  <tbody>\n",
              "    <tr>\n",
              "      <th>count</th>\n",
              "      <td>17898.000000</td>\n",
              "      <td>17898.000000</td>\n",
              "      <td>17898.000000</td>\n",
              "      <td>17898.000000</td>\n",
              "      <td>17898.000000</td>\n",
              "      <td>17898.000000</td>\n",
              "      <td>17898.000000</td>\n",
              "      <td>17898.000000</td>\n",
              "      <td>17898.000000</td>\n",
              "    </tr>\n",
              "    <tr>\n",
              "      <th>mean</th>\n",
              "      <td>111.079968</td>\n",
              "      <td>46.549532</td>\n",
              "      <td>0.477857</td>\n",
              "      <td>1.770279</td>\n",
              "      <td>12.614400</td>\n",
              "      <td>26.326515</td>\n",
              "      <td>8.303556</td>\n",
              "      <td>104.857709</td>\n",
              "      <td>0.091574</td>\n",
              "    </tr>\n",
              "    <tr>\n",
              "      <th>std</th>\n",
              "      <td>25.652935</td>\n",
              "      <td>6.843189</td>\n",
              "      <td>1.064040</td>\n",
              "      <td>6.167913</td>\n",
              "      <td>29.472897</td>\n",
              "      <td>19.470572</td>\n",
              "      <td>4.506092</td>\n",
              "      <td>106.514540</td>\n",
              "      <td>0.288432</td>\n",
              "    </tr>\n",
              "    <tr>\n",
              "      <th>min</th>\n",
              "      <td>5.812500</td>\n",
              "      <td>24.772042</td>\n",
              "      <td>-1.876011</td>\n",
              "      <td>-1.791886</td>\n",
              "      <td>0.213211</td>\n",
              "      <td>7.370432</td>\n",
              "      <td>-3.139270</td>\n",
              "      <td>-1.976976</td>\n",
              "      <td>0.000000</td>\n",
              "    </tr>\n",
              "    <tr>\n",
              "      <th>25%</th>\n",
              "      <td>100.929688</td>\n",
              "      <td>42.376018</td>\n",
              "      <td>0.027098</td>\n",
              "      <td>-0.188572</td>\n",
              "      <td>1.923077</td>\n",
              "      <td>14.437332</td>\n",
              "      <td>5.781506</td>\n",
              "      <td>34.960504</td>\n",
              "      <td>0.000000</td>\n",
              "    </tr>\n",
              "    <tr>\n",
              "      <th>50%</th>\n",
              "      <td>115.078125</td>\n",
              "      <td>46.947479</td>\n",
              "      <td>0.223240</td>\n",
              "      <td>0.198710</td>\n",
              "      <td>2.801839</td>\n",
              "      <td>18.461316</td>\n",
              "      <td>8.433515</td>\n",
              "      <td>83.064556</td>\n",
              "      <td>0.000000</td>\n",
              "    </tr>\n",
              "    <tr>\n",
              "      <th>75%</th>\n",
              "      <td>127.085938</td>\n",
              "      <td>51.023202</td>\n",
              "      <td>0.473325</td>\n",
              "      <td>0.927783</td>\n",
              "      <td>5.464256</td>\n",
              "      <td>28.428104</td>\n",
              "      <td>10.702959</td>\n",
              "      <td>139.309331</td>\n",
              "      <td>0.000000</td>\n",
              "    </tr>\n",
              "    <tr>\n",
              "      <th>max</th>\n",
              "      <td>192.617188</td>\n",
              "      <td>98.778911</td>\n",
              "      <td>8.069522</td>\n",
              "      <td>68.101622</td>\n",
              "      <td>223.392140</td>\n",
              "      <td>110.642211</td>\n",
              "      <td>34.539844</td>\n",
              "      <td>1191.000837</td>\n",
              "      <td>1.000000</td>\n",
              "    </tr>\n",
              "  </tbody>\n",
              "</table>\n",
              "</div>"
            ],
            "text/plain": [
              "        Mean of the integrated profile  ...  target_class\n",
              "count                     17898.000000  ...  17898.000000\n",
              "mean                        111.079968  ...      0.091574\n",
              "std                          25.652935  ...      0.288432\n",
              "min                           5.812500  ...      0.000000\n",
              "25%                         100.929688  ...      0.000000\n",
              "50%                         115.078125  ...      0.000000\n",
              "75%                         127.085938  ...      0.000000\n",
              "max                         192.617188  ...      1.000000\n",
              "\n",
              "[8 rows x 9 columns]"
            ]
          },
          "metadata": {},
          "execution_count": 92
        }
      ]
    },
    {
      "cell_type": "code",
      "metadata": {
        "colab": {
          "base_uri": "https://localhost:8080/"
        },
        "id": "GSwaoJgSfgJJ",
        "outputId": "8deb488d-025a-4eb0-a212-7e1b23ce1c1d"
      },
      "source": [
        "df.info()"
      ],
      "execution_count": 93,
      "outputs": [
        {
          "output_type": "stream",
          "name": "stdout",
          "text": [
            "<class 'pandas.core.frame.DataFrame'>\n",
            "RangeIndex: 17898 entries, 0 to 17897\n",
            "Data columns (total 9 columns):\n",
            " #   Column                                         Non-Null Count  Dtype  \n",
            "---  ------                                         --------------  -----  \n",
            " 0    Mean of the integrated profile                17898 non-null  float64\n",
            " 1    Standard deviation of the integrated profile  17898 non-null  float64\n",
            " 2    Excess kurtosis of the integrated profile     17898 non-null  float64\n",
            " 3    Skewness of the integrated profile            17898 non-null  float64\n",
            " 4    Mean of the DM-SNR curve                      17898 non-null  float64\n",
            " 5    Standard deviation of the DM-SNR curve        17898 non-null  float64\n",
            " 6    Excess kurtosis of the DM-SNR curve           17898 non-null  float64\n",
            " 7    Skewness of the DM-SNR curve                  17898 non-null  float64\n",
            " 8   target_class                                   17898 non-null  int64  \n",
            "dtypes: float64(8), int64(1)\n",
            "memory usage: 1.2 MB\n"
          ]
        }
      ]
    },
    {
      "cell_type": "code",
      "metadata": {
        "colab": {
          "base_uri": "https://localhost:8080/"
        },
        "id": "zOiZlifYfiJG",
        "outputId": "995a81db-4e2c-4f8e-96d9-f99592e760c3"
      },
      "source": [
        "df.isnull().sum()"
      ],
      "execution_count": 94,
      "outputs": [
        {
          "output_type": "execute_result",
          "data": {
            "text/plain": [
              " Mean of the integrated profile                  0\n",
              " Standard deviation of the integrated profile    0\n",
              " Excess kurtosis of the integrated profile       0\n",
              " Skewness of the integrated profile              0\n",
              " Mean of the DM-SNR curve                        0\n",
              " Standard deviation of the DM-SNR curve          0\n",
              " Excess kurtosis of the DM-SNR curve             0\n",
              " Skewness of the DM-SNR curve                    0\n",
              "target_class                                     0\n",
              "dtype: int64"
            ]
          },
          "metadata": {},
          "execution_count": 94
        }
      ]
    },
    {
      "cell_type": "code",
      "metadata": {
        "colab": {
          "base_uri": "https://localhost:8080/"
        },
        "id": "rATw7mzjfmnG",
        "outputId": "64217b73-08c8-4820-a503-8d9e0a7dd66d"
      },
      "source": [
        "col_names = df.columns\n",
        "col_names"
      ],
      "execution_count": 95,
      "outputs": [
        {
          "output_type": "execute_result",
          "data": {
            "text/plain": [
              "Index([' Mean of the integrated profile',\n",
              "       ' Standard deviation of the integrated profile',\n",
              "       ' Excess kurtosis of the integrated profile',\n",
              "       ' Skewness of the integrated profile', ' Mean of the DM-SNR curve',\n",
              "       ' Standard deviation of the DM-SNR curve',\n",
              "       ' Excess kurtosis of the DM-SNR curve', ' Skewness of the DM-SNR curve',\n",
              "       'target_class'],\n",
              "      dtype='object')"
            ]
          },
          "metadata": {},
          "execution_count": 95
        }
      ]
    },
    {
      "cell_type": "markdown",
      "metadata": {
        "id": "PYIDjoKvjHZ4"
      },
      "source": [
        "DATACLEANING"
      ]
    },
    {
      "cell_type": "code",
      "metadata": {
        "id": "TeTYvRHUfuJn"
      },
      "source": [
        "df.columns = df.columns.str.strip()"
      ],
      "execution_count": 96,
      "outputs": []
    },
    {
      "cell_type": "code",
      "metadata": {
        "colab": {
          "base_uri": "https://localhost:8080/"
        },
        "id": "Gf3byCy3f063",
        "outputId": "48f9f1bc-17e9-4a81-8e66-7e9e230edfe5"
      },
      "source": [
        "df.columns"
      ],
      "execution_count": 97,
      "outputs": [
        {
          "output_type": "execute_result",
          "data": {
            "text/plain": [
              "Index(['Mean of the integrated profile',\n",
              "       'Standard deviation of the integrated profile',\n",
              "       'Excess kurtosis of the integrated profile',\n",
              "       'Skewness of the integrated profile', 'Mean of the DM-SNR curve',\n",
              "       'Standard deviation of the DM-SNR curve',\n",
              "       'Excess kurtosis of the DM-SNR curve', 'Skewness of the DM-SNR curve',\n",
              "       'target_class'],\n",
              "      dtype='object')"
            ]
          },
          "metadata": {},
          "execution_count": 97
        }
      ]
    },
    {
      "cell_type": "markdown",
      "metadata": {
        "id": "Q2eE21n8jKnw"
      },
      "source": [
        "FEATURE SCALING"
      ]
    },
    {
      "cell_type": "code",
      "metadata": {
        "id": "jEAo3YBWgH0F"
      },
      "source": [
        "X = df.drop(['target_class'], axis=1)\n",
        "\n",
        "y = df['target_class']"
      ],
      "execution_count": 98,
      "outputs": []
    },
    {
      "cell_type": "code",
      "metadata": {
        "colab": {
          "base_uri": "https://localhost:8080/",
          "height": 453
        },
        "id": "bwoExkG2gOvz",
        "outputId": "25c2de99-e02f-4fdb-b43e-d6421c214fa2"
      },
      "source": [
        "X"
      ],
      "execution_count": 99,
      "outputs": [
        {
          "output_type": "execute_result",
          "data": {
            "text/html": [
              "<div>\n",
              "<style scoped>\n",
              "    .dataframe tbody tr th:only-of-type {\n",
              "        vertical-align: middle;\n",
              "    }\n",
              "\n",
              "    .dataframe tbody tr th {\n",
              "        vertical-align: top;\n",
              "    }\n",
              "\n",
              "    .dataframe thead th {\n",
              "        text-align: right;\n",
              "    }\n",
              "</style>\n",
              "<table border=\"1\" class=\"dataframe\">\n",
              "  <thead>\n",
              "    <tr style=\"text-align: right;\">\n",
              "      <th></th>\n",
              "      <th>Mean of the integrated profile</th>\n",
              "      <th>Standard deviation of the integrated profile</th>\n",
              "      <th>Excess kurtosis of the integrated profile</th>\n",
              "      <th>Skewness of the integrated profile</th>\n",
              "      <th>Mean of the DM-SNR curve</th>\n",
              "      <th>Standard deviation of the DM-SNR curve</th>\n",
              "      <th>Excess kurtosis of the DM-SNR curve</th>\n",
              "      <th>Skewness of the DM-SNR curve</th>\n",
              "    </tr>\n",
              "  </thead>\n",
              "  <tbody>\n",
              "    <tr>\n",
              "      <th>0</th>\n",
              "      <td>140.562500</td>\n",
              "      <td>55.683782</td>\n",
              "      <td>-0.234571</td>\n",
              "      <td>-0.699648</td>\n",
              "      <td>3.199833</td>\n",
              "      <td>19.110426</td>\n",
              "      <td>7.975532</td>\n",
              "      <td>74.242225</td>\n",
              "    </tr>\n",
              "    <tr>\n",
              "      <th>1</th>\n",
              "      <td>102.507812</td>\n",
              "      <td>58.882430</td>\n",
              "      <td>0.465318</td>\n",
              "      <td>-0.515088</td>\n",
              "      <td>1.677258</td>\n",
              "      <td>14.860146</td>\n",
              "      <td>10.576487</td>\n",
              "      <td>127.393580</td>\n",
              "    </tr>\n",
              "    <tr>\n",
              "      <th>2</th>\n",
              "      <td>103.015625</td>\n",
              "      <td>39.341649</td>\n",
              "      <td>0.323328</td>\n",
              "      <td>1.051164</td>\n",
              "      <td>3.121237</td>\n",
              "      <td>21.744669</td>\n",
              "      <td>7.735822</td>\n",
              "      <td>63.171909</td>\n",
              "    </tr>\n",
              "    <tr>\n",
              "      <th>3</th>\n",
              "      <td>136.750000</td>\n",
              "      <td>57.178449</td>\n",
              "      <td>-0.068415</td>\n",
              "      <td>-0.636238</td>\n",
              "      <td>3.642977</td>\n",
              "      <td>20.959280</td>\n",
              "      <td>6.896499</td>\n",
              "      <td>53.593661</td>\n",
              "    </tr>\n",
              "    <tr>\n",
              "      <th>4</th>\n",
              "      <td>88.726562</td>\n",
              "      <td>40.672225</td>\n",
              "      <td>0.600866</td>\n",
              "      <td>1.123492</td>\n",
              "      <td>1.178930</td>\n",
              "      <td>11.468720</td>\n",
              "      <td>14.269573</td>\n",
              "      <td>252.567306</td>\n",
              "    </tr>\n",
              "    <tr>\n",
              "      <th>...</th>\n",
              "      <td>...</td>\n",
              "      <td>...</td>\n",
              "      <td>...</td>\n",
              "      <td>...</td>\n",
              "      <td>...</td>\n",
              "      <td>...</td>\n",
              "      <td>...</td>\n",
              "      <td>...</td>\n",
              "    </tr>\n",
              "    <tr>\n",
              "      <th>17893</th>\n",
              "      <td>136.429688</td>\n",
              "      <td>59.847421</td>\n",
              "      <td>-0.187846</td>\n",
              "      <td>-0.738123</td>\n",
              "      <td>1.296823</td>\n",
              "      <td>12.166062</td>\n",
              "      <td>15.450260</td>\n",
              "      <td>285.931022</td>\n",
              "    </tr>\n",
              "    <tr>\n",
              "      <th>17894</th>\n",
              "      <td>122.554688</td>\n",
              "      <td>49.485605</td>\n",
              "      <td>0.127978</td>\n",
              "      <td>0.323061</td>\n",
              "      <td>16.409699</td>\n",
              "      <td>44.626893</td>\n",
              "      <td>2.945244</td>\n",
              "      <td>8.297092</td>\n",
              "    </tr>\n",
              "    <tr>\n",
              "      <th>17895</th>\n",
              "      <td>119.335938</td>\n",
              "      <td>59.935939</td>\n",
              "      <td>0.159363</td>\n",
              "      <td>-0.743025</td>\n",
              "      <td>21.430602</td>\n",
              "      <td>58.872000</td>\n",
              "      <td>2.499517</td>\n",
              "      <td>4.595173</td>\n",
              "    </tr>\n",
              "    <tr>\n",
              "      <th>17896</th>\n",
              "      <td>114.507812</td>\n",
              "      <td>53.902400</td>\n",
              "      <td>0.201161</td>\n",
              "      <td>-0.024789</td>\n",
              "      <td>1.946488</td>\n",
              "      <td>13.381731</td>\n",
              "      <td>10.007967</td>\n",
              "      <td>134.238910</td>\n",
              "    </tr>\n",
              "    <tr>\n",
              "      <th>17897</th>\n",
              "      <td>57.062500</td>\n",
              "      <td>85.797340</td>\n",
              "      <td>1.406391</td>\n",
              "      <td>0.089520</td>\n",
              "      <td>188.306020</td>\n",
              "      <td>64.712562</td>\n",
              "      <td>-1.597527</td>\n",
              "      <td>1.429475</td>\n",
              "    </tr>\n",
              "  </tbody>\n",
              "</table>\n",
              "<p>17898 rows × 8 columns</p>\n",
              "</div>"
            ],
            "text/plain": [
              "       Mean of the integrated profile  ...  Skewness of the DM-SNR curve\n",
              "0                          140.562500  ...                     74.242225\n",
              "1                          102.507812  ...                    127.393580\n",
              "2                          103.015625  ...                     63.171909\n",
              "3                          136.750000  ...                     53.593661\n",
              "4                           88.726562  ...                    252.567306\n",
              "...                               ...  ...                           ...\n",
              "17893                      136.429688  ...                    285.931022\n",
              "17894                      122.554688  ...                      8.297092\n",
              "17895                      119.335938  ...                      4.595173\n",
              "17896                      114.507812  ...                    134.238910\n",
              "17897                       57.062500  ...                      1.429475\n",
              "\n",
              "[17898 rows x 8 columns]"
            ]
          },
          "metadata": {},
          "execution_count": 99
        }
      ]
    },
    {
      "cell_type": "code",
      "metadata": {
        "colab": {
          "base_uri": "https://localhost:8080/"
        },
        "id": "7hVzLTITgPvI",
        "outputId": "c13916ac-1e66-4209-8e91-4660e86366be"
      },
      "source": [
        "y"
      ],
      "execution_count": 100,
      "outputs": [
        {
          "output_type": "execute_result",
          "data": {
            "text/plain": [
              "0        0\n",
              "1        0\n",
              "2        0\n",
              "3        0\n",
              "4        0\n",
              "        ..\n",
              "17893    0\n",
              "17894    0\n",
              "17895    0\n",
              "17896    0\n",
              "17897    0\n",
              "Name: target_class, Length: 17898, dtype: int64"
            ]
          },
          "metadata": {},
          "execution_count": 100
        }
      ]
    },
    {
      "cell_type": "markdown",
      "metadata": {
        "id": "DgtdNu__jPsd"
      },
      "source": [
        "SPLITTING INTO TRAINING AND TESTING DATA"
      ]
    },
    {
      "cell_type": "code",
      "metadata": {
        "id": "pmrEDpmtgQxX"
      },
      "source": [
        "# split X and y into training and testing sets\n",
        "\n",
        "from sklearn.model_selection import train_test_split\n",
        "\n",
        "X_train, X_test, y_train, y_test = train_test_split(X, y, test_size = 0.2, random_state = 0)"
      ],
      "execution_count": 101,
      "outputs": []
    },
    {
      "cell_type": "code",
      "metadata": {
        "colab": {
          "base_uri": "https://localhost:8080/"
        },
        "id": "_KGUOe0xgZRS",
        "outputId": "09faa47e-2216-4832-9152-8c08055ab61b"
      },
      "source": [
        "# check the shape of X_train and X_test\n",
        "\n",
        "X_train.shape, X_test.shape"
      ],
      "execution_count": 102,
      "outputs": [
        {
          "output_type": "execute_result",
          "data": {
            "text/plain": [
              "((14318, 8), (3580, 8))"
            ]
          },
          "metadata": {},
          "execution_count": 102
        }
      ]
    },
    {
      "cell_type": "code",
      "metadata": {
        "colab": {
          "base_uri": "https://localhost:8080/",
          "height": 453
        },
        "id": "XMqqjptGhCS4",
        "outputId": "f9d09c6b-2963-462d-ea82-984d5cf3f842"
      },
      "source": [
        "X_train"
      ],
      "execution_count": 103,
      "outputs": [
        {
          "output_type": "execute_result",
          "data": {
            "text/html": [
              "<div>\n",
              "<style scoped>\n",
              "    .dataframe tbody tr th:only-of-type {\n",
              "        vertical-align: middle;\n",
              "    }\n",
              "\n",
              "    .dataframe tbody tr th {\n",
              "        vertical-align: top;\n",
              "    }\n",
              "\n",
              "    .dataframe thead th {\n",
              "        text-align: right;\n",
              "    }\n",
              "</style>\n",
              "<table border=\"1\" class=\"dataframe\">\n",
              "  <thead>\n",
              "    <tr style=\"text-align: right;\">\n",
              "      <th></th>\n",
              "      <th>Mean of the integrated profile</th>\n",
              "      <th>Standard deviation of the integrated profile</th>\n",
              "      <th>Excess kurtosis of the integrated profile</th>\n",
              "      <th>Skewness of the integrated profile</th>\n",
              "      <th>Mean of the DM-SNR curve</th>\n",
              "      <th>Standard deviation of the DM-SNR curve</th>\n",
              "      <th>Excess kurtosis of the DM-SNR curve</th>\n",
              "      <th>Skewness of the DM-SNR curve</th>\n",
              "    </tr>\n",
              "  </thead>\n",
              "  <tbody>\n",
              "    <tr>\n",
              "      <th>3055</th>\n",
              "      <td>120.640625</td>\n",
              "      <td>47.842962</td>\n",
              "      <td>0.257963</td>\n",
              "      <td>-0.090620</td>\n",
              "      <td>8.048495</td>\n",
              "      <td>35.198234</td>\n",
              "      <td>4.819784</td>\n",
              "      <td>23.528383</td>\n",
              "    </tr>\n",
              "    <tr>\n",
              "      <th>10138</th>\n",
              "      <td>116.554688</td>\n",
              "      <td>48.702992</td>\n",
              "      <td>0.197625</td>\n",
              "      <td>0.232600</td>\n",
              "      <td>3.041806</td>\n",
              "      <td>16.610678</td>\n",
              "      <td>8.166185</td>\n",
              "      <td>84.846709</td>\n",
              "    </tr>\n",
              "    <tr>\n",
              "      <th>3600</th>\n",
              "      <td>66.773438</td>\n",
              "      <td>58.206289</td>\n",
              "      <td>1.838734</td>\n",
              "      <td>2.414939</td>\n",
              "      <td>73.643813</td>\n",
              "      <td>80.673494</td>\n",
              "      <td>0.649639</td>\n",
              "      <td>-0.918078</td>\n",
              "    </tr>\n",
              "    <tr>\n",
              "      <th>16245</th>\n",
              "      <td>93.312500</td>\n",
              "      <td>34.314663</td>\n",
              "      <td>0.658339</td>\n",
              "      <td>2.928829</td>\n",
              "      <td>3.780936</td>\n",
              "      <td>22.213667</td>\n",
              "      <td>7.446869</td>\n",
              "      <td>61.135290</td>\n",
              "    </tr>\n",
              "    <tr>\n",
              "      <th>6079</th>\n",
              "      <td>99.343750</td>\n",
              "      <td>48.635513</td>\n",
              "      <td>0.470525</td>\n",
              "      <td>0.244099</td>\n",
              "      <td>1.701505</td>\n",
              "      <td>13.167891</td>\n",
              "      <td>11.177091</td>\n",
              "      <td>156.605608</td>\n",
              "    </tr>\n",
              "    <tr>\n",
              "      <th>...</th>\n",
              "      <td>...</td>\n",
              "      <td>...</td>\n",
              "      <td>...</td>\n",
              "      <td>...</td>\n",
              "      <td>...</td>\n",
              "      <td>...</td>\n",
              "      <td>...</td>\n",
              "      <td>...</td>\n",
              "    </tr>\n",
              "    <tr>\n",
              "      <th>9225</th>\n",
              "      <td>68.125000</td>\n",
              "      <td>35.699484</td>\n",
              "      <td>1.960779</td>\n",
              "      <td>7.421007</td>\n",
              "      <td>3.966555</td>\n",
              "      <td>24.985893</td>\n",
              "      <td>7.011638</td>\n",
              "      <td>51.406361</td>\n",
              "    </tr>\n",
              "    <tr>\n",
              "      <th>13123</th>\n",
              "      <td>131.953125</td>\n",
              "      <td>49.144535</td>\n",
              "      <td>-0.023566</td>\n",
              "      <td>-0.179173</td>\n",
              "      <td>0.821906</td>\n",
              "      <td>10.389612</td>\n",
              "      <td>16.822593</td>\n",
              "      <td>342.087592</td>\n",
              "    </tr>\n",
              "    <tr>\n",
              "      <th>9845</th>\n",
              "      <td>133.164062</td>\n",
              "      <td>55.475470</td>\n",
              "      <td>-0.094423</td>\n",
              "      <td>-0.338486</td>\n",
              "      <td>1.370401</td>\n",
              "      <td>12.653503</td>\n",
              "      <td>12.175979</td>\n",
              "      <td>181.458434</td>\n",
              "    </tr>\n",
              "    <tr>\n",
              "      <th>10799</th>\n",
              "      <td>98.171875</td>\n",
              "      <td>48.805595</td>\n",
              "      <td>0.311807</td>\n",
              "      <td>0.147812</td>\n",
              "      <td>2.223244</td>\n",
              "      <td>16.204313</td>\n",
              "      <td>10.203209</td>\n",
              "      <td>122.776632</td>\n",
              "    </tr>\n",
              "    <tr>\n",
              "      <th>2732</th>\n",
              "      <td>106.046875</td>\n",
              "      <td>42.075056</td>\n",
              "      <td>0.421144</td>\n",
              "      <td>0.576144</td>\n",
              "      <td>3.122910</td>\n",
              "      <td>19.924920</td>\n",
              "      <td>7.313483</td>\n",
              "      <td>58.792128</td>\n",
              "    </tr>\n",
              "  </tbody>\n",
              "</table>\n",
              "<p>14318 rows × 8 columns</p>\n",
              "</div>"
            ],
            "text/plain": [
              "       Mean of the integrated profile  ...  Skewness of the DM-SNR curve\n",
              "3055                       120.640625  ...                     23.528383\n",
              "10138                      116.554688  ...                     84.846709\n",
              "3600                        66.773438  ...                     -0.918078\n",
              "16245                       93.312500  ...                     61.135290\n",
              "6079                        99.343750  ...                    156.605608\n",
              "...                               ...  ...                           ...\n",
              "9225                        68.125000  ...                     51.406361\n",
              "13123                      131.953125  ...                    342.087592\n",
              "9845                       133.164062  ...                    181.458434\n",
              "10799                       98.171875  ...                    122.776632\n",
              "2732                       106.046875  ...                     58.792128\n",
              "\n",
              "[14318 rows x 8 columns]"
            ]
          },
          "metadata": {},
          "execution_count": 103
        }
      ]
    },
    {
      "cell_type": "code",
      "metadata": {
        "id": "_2uXHjUhgtVt"
      },
      "source": [
        "cols = X_train.columns"
      ],
      "execution_count": 104,
      "outputs": []
    },
    {
      "cell_type": "markdown",
      "metadata": {
        "id": "VYrXpZpCjW93"
      },
      "source": [
        "PREPROCESSING AND TRANSFORMING"
      ]
    },
    {
      "cell_type": "code",
      "metadata": {
        "id": "Nh-TWynPgdTF"
      },
      "source": [
        "from sklearn.preprocessing import StandardScaler\n",
        "\n",
        "scaler = StandardScaler()\n",
        "\n",
        "X_train = scaler.fit_transform(X_train)\n",
        "\n",
        "X_test = scaler.transform(X_test)"
      ],
      "execution_count": 105,
      "outputs": []
    },
    {
      "cell_type": "code",
      "metadata": {
        "id": "3fiicZisgg3F"
      },
      "source": [
        "X_train = pd.DataFrame(X_train, columns=[cols])"
      ],
      "execution_count": 106,
      "outputs": []
    },
    {
      "cell_type": "code",
      "metadata": {
        "id": "YFQPC0aiglDz"
      },
      "source": [
        "X_test = pd.DataFrame(X_test, columns=[cols])"
      ],
      "execution_count": 107,
      "outputs": []
    },
    {
      "cell_type": "code",
      "metadata": {
        "colab": {
          "base_uri": "https://localhost:8080/",
          "height": 331
        },
        "id": "N3rQrBWEheaJ",
        "outputId": "fbc940a9-c53f-454d-cda6-c24fcd278440"
      },
      "source": [
        "X_train.describe()"
      ],
      "execution_count": 108,
      "outputs": [
        {
          "output_type": "execute_result",
          "data": {
            "text/html": [
              "<div>\n",
              "<style scoped>\n",
              "    .dataframe tbody tr th:only-of-type {\n",
              "        vertical-align: middle;\n",
              "    }\n",
              "\n",
              "    .dataframe tbody tr th {\n",
              "        vertical-align: top;\n",
              "    }\n",
              "\n",
              "    .dataframe thead tr th {\n",
              "        text-align: left;\n",
              "    }\n",
              "</style>\n",
              "<table border=\"1\" class=\"dataframe\">\n",
              "  <thead>\n",
              "    <tr>\n",
              "      <th></th>\n",
              "      <th>Mean of the integrated profile</th>\n",
              "      <th>Standard deviation of the integrated profile</th>\n",
              "      <th>Excess kurtosis of the integrated profile</th>\n",
              "      <th>Skewness of the integrated profile</th>\n",
              "      <th>Mean of the DM-SNR curve</th>\n",
              "      <th>Standard deviation of the DM-SNR curve</th>\n",
              "      <th>Excess kurtosis of the DM-SNR curve</th>\n",
              "      <th>Skewness of the DM-SNR curve</th>\n",
              "    </tr>\n",
              "  </thead>\n",
              "  <tbody>\n",
              "    <tr>\n",
              "      <th>count</th>\n",
              "      <td>1.431800e+04</td>\n",
              "      <td>1.431800e+04</td>\n",
              "      <td>1.431800e+04</td>\n",
              "      <td>1.431800e+04</td>\n",
              "      <td>1.431800e+04</td>\n",
              "      <td>1.431800e+04</td>\n",
              "      <td>1.431800e+04</td>\n",
              "      <td>1.431800e+04</td>\n",
              "    </tr>\n",
              "    <tr>\n",
              "      <th>mean</th>\n",
              "      <td>1.986604e-16</td>\n",
              "      <td>-6.757488e-16</td>\n",
              "      <td>2.125527e-17</td>\n",
              "      <td>3.581784e-17</td>\n",
              "      <td>-2.205248e-17</td>\n",
              "      <td>-1.583840e-16</td>\n",
              "      <td>-9.700300e-18</td>\n",
              "      <td>1.214786e-16</td>\n",
              "    </tr>\n",
              "    <tr>\n",
              "      <th>std</th>\n",
              "      <td>1.000035e+00</td>\n",
              "      <td>1.000035e+00</td>\n",
              "      <td>1.000035e+00</td>\n",
              "      <td>1.000035e+00</td>\n",
              "      <td>1.000035e+00</td>\n",
              "      <td>1.000035e+00</td>\n",
              "      <td>1.000035e+00</td>\n",
              "      <td>1.000035e+00</td>\n",
              "    </tr>\n",
              "    <tr>\n",
              "      <th>min</th>\n",
              "      <td>-4.035499e+00</td>\n",
              "      <td>-3.181033e+00</td>\n",
              "      <td>-2.185946e+00</td>\n",
              "      <td>-5.744051e-01</td>\n",
              "      <td>-4.239001e-01</td>\n",
              "      <td>-9.733707e-01</td>\n",
              "      <td>-2.455649e+00</td>\n",
              "      <td>-1.003411e+00</td>\n",
              "    </tr>\n",
              "    <tr>\n",
              "      <th>25%</th>\n",
              "      <td>-3.896291e-01</td>\n",
              "      <td>-6.069473e-01</td>\n",
              "      <td>-4.256221e-01</td>\n",
              "      <td>-3.188054e-01</td>\n",
              "      <td>-3.664918e-01</td>\n",
              "      <td>-6.125457e-01</td>\n",
              "      <td>-5.641035e-01</td>\n",
              "      <td>-6.627590e-01</td>\n",
              "    </tr>\n",
              "    <tr>\n",
              "      <th>50%</th>\n",
              "      <td>1.587461e-01</td>\n",
              "      <td>5.846646e-02</td>\n",
              "      <td>-2.453172e-01</td>\n",
              "      <td>-2.578142e-01</td>\n",
              "      <td>-3.372294e-01</td>\n",
              "      <td>-4.067482e-01</td>\n",
              "      <td>3.170446e-02</td>\n",
              "      <td>-2.059136e-01</td>\n",
              "    </tr>\n",
              "    <tr>\n",
              "      <th>75%</th>\n",
              "      <td>6.267059e-01</td>\n",
              "      <td>6.501017e-01</td>\n",
              "      <td>-1.001238e-02</td>\n",
              "      <td>-1.419621e-01</td>\n",
              "      <td>-2.463724e-01</td>\n",
              "      <td>1.078934e-01</td>\n",
              "      <td>5.362759e-01</td>\n",
              "      <td>3.256217e-01</td>\n",
              "    </tr>\n",
              "    <tr>\n",
              "      <th>max</th>\n",
              "      <td>3.151882e+00</td>\n",
              "      <td>7.621116e+00</td>\n",
              "      <td>7.008906e+00</td>\n",
              "      <td>1.054430e+01</td>\n",
              "      <td>7.025568e+00</td>\n",
              "      <td>4.292181e+00</td>\n",
              "      <td>5.818557e+00</td>\n",
              "      <td>1.024613e+01</td>\n",
              "    </tr>\n",
              "  </tbody>\n",
              "</table>\n",
              "</div>"
            ],
            "text/plain": [
              "      Mean of the integrated profile  ... Skewness of the DM-SNR curve\n",
              "count                   1.431800e+04  ...                 1.431800e+04\n",
              "mean                    1.986604e-16  ...                 1.214786e-16\n",
              "std                     1.000035e+00  ...                 1.000035e+00\n",
              "min                    -4.035499e+00  ...                -1.003411e+00\n",
              "25%                    -3.896291e-01  ...                -6.627590e-01\n",
              "50%                     1.587461e-01  ...                -2.059136e-01\n",
              "75%                     6.267059e-01  ...                 3.256217e-01\n",
              "max                     3.151882e+00  ...                 1.024613e+01\n",
              "\n",
              "[8 rows x 8 columns]"
            ]
          },
          "metadata": {},
          "execution_count": 108
        }
      ]
    },
    {
      "cell_type": "markdown",
      "metadata": {
        "id": "VNeIykJ8je8c"
      },
      "source": [
        "IMPORT SVM CLASSIFIER"
      ]
    },
    {
      "cell_type": "code",
      "metadata": {
        "colab": {
          "base_uri": "https://localhost:8080/"
        },
        "id": "-XSaho0ThhcI",
        "outputId": "a55bd2c0-a143-463f-bacc-dbf35e065601"
      },
      "source": [
        "# import SVC classifier\n",
        "from sklearn.svm import SVC\n",
        "\n",
        "\n",
        "# import metrics to compute accuracy\n",
        "from sklearn.metrics import accuracy_score\n",
        "\n",
        "\n",
        "# instantiate classifier with default hyperparameters\n",
        "svc=SVC() \n",
        "\n",
        "\n",
        "# fit classifier to training set\n",
        "svc.fit(X_train,y_train)\n",
        "\n",
        "\n",
        "# make predictions on test set\n",
        "y_pred=svc.predict(X_test)\n",
        "\n",
        "\n",
        "# compute and print accuracy score\n",
        "print('Model accuracy score with default hyperparameters: {0:0.4f}'. format(accuracy_score(y_test, y_pred)))"
      ],
      "execution_count": 109,
      "outputs": [
        {
          "output_type": "stream",
          "name": "stdout",
          "text": [
            "Model accuracy score with default hyperparameters: 0.9827\n"
          ]
        }
      ]
    },
    {
      "cell_type": "code",
      "metadata": {
        "colab": {
          "base_uri": "https://localhost:8080/"
        },
        "id": "a2LgLMc7iCfl",
        "outputId": "1299e31f-9347-418d-f422-3ec4f50be479"
      },
      "source": [
        "# instantiate classifier with linear kernel and C=1.0\n",
        "linear_svc=SVC(kernel='linear', C=1.0) \n",
        "\n",
        "\n",
        "# fit classifier to training set\n",
        "linear_svc.fit(X_train,y_train)\n",
        "\n",
        "\n",
        "# make predictions on test set\n",
        "y_pred_test=linear_svc.predict(X_test)\n",
        "\n",
        "\n",
        "# compute and print accuracy score\n",
        "print('Model accuracy score with linear kernel and C=1.0 : {0:0.4f}'. format(accuracy_score(y_test, y_pred_test)))"
      ],
      "execution_count": 110,
      "outputs": [
        {
          "output_type": "stream",
          "name": "stdout",
          "text": [
            "Model accuracy score with linear kernel and C=1.0 : 0.9830\n"
          ]
        }
      ]
    },
    {
      "cell_type": "code",
      "metadata": {
        "colab": {
          "base_uri": "https://localhost:8080/"
        },
        "id": "2iPKeLS2iQRh",
        "outputId": "f3ff0b37-f302-4ed9-80f6-0edb5e7597a0"
      },
      "source": [
        "y_pred_train = linear_svc.predict(X_train)\n",
        "\n",
        "y_pred_train"
      ],
      "execution_count": 111,
      "outputs": [
        {
          "output_type": "execute_result",
          "data": {
            "text/plain": [
              "array([0, 0, 1, ..., 0, 0, 0])"
            ]
          },
          "metadata": {},
          "execution_count": 111
        }
      ]
    },
    {
      "cell_type": "markdown",
      "metadata": {
        "id": "QbQmzC17jk89"
      },
      "source": [
        "EVALUATION OF ACCURACY"
      ]
    },
    {
      "cell_type": "code",
      "metadata": {
        "colab": {
          "base_uri": "https://localhost:8080/"
        },
        "id": "rAKxC634iXCX",
        "outputId": "0a57ceae-3428-4f9a-f70d-7033ab2425fe"
      },
      "source": [
        "print('Training-set accuracy score: {0:0.4f}'. format(accuracy_score(y_train, y_pred_train)))"
      ],
      "execution_count": 112,
      "outputs": [
        {
          "output_type": "stream",
          "name": "stdout",
          "text": [
            "Training-set accuracy score: 0.9783\n"
          ]
        }
      ]
    },
    {
      "cell_type": "code",
      "metadata": {
        "colab": {
          "base_uri": "https://localhost:8080/"
        },
        "id": "UtFlVgzKigtT",
        "outputId": "4fa86597-966e-4a7f-cc4f-8bd2ff482a0a"
      },
      "source": [
        "# print the scores on training and test set\n",
        "\n",
        "print('Training set score: {:.4f}'.format(linear_svc.score(X_train, y_train)))\n",
        "\n",
        "print('Test set score: {:.4f}'.format(linear_svc.score(X_test, y_test)))"
      ],
      "execution_count": 113,
      "outputs": [
        {
          "output_type": "stream",
          "name": "stdout",
          "text": [
            "Training set score: 0.9783\n",
            "Test set score: 0.9830\n"
          ]
        }
      ]
    },
    {
      "cell_type": "code",
      "metadata": {
        "id": "FP3Yl3KDinsJ"
      },
      "source": [
        ""
      ],
      "execution_count": 113,
      "outputs": []
    }
  ]
}